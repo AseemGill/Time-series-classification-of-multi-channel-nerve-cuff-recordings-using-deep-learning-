{
 "cells": [
  {
   "cell_type": "code",
   "execution_count": 21,
   "id": "8c097c6e",
   "metadata": {
    "scrolled": true
   },
   "outputs": [],
   "source": [
    "import os\n",
    "import torch\n",
    "import random\n",
    "import math\n",
    "from torch import nn\n",
    "from torch.nn.modules import activation\n",
    "import torch.nn.functional as F\n",
    "import torchvision\n",
    "import shutil\n",
    "import numpy as np\n",
    "from PIL import Image\n",
    "import time\n",
    "from tqdm.notebook import tqdm\n",
    "from sklearn.metrics import confusion_matrix"
   ]
  },
  {
   "cell_type": "code",
   "execution_count": 22,
   "id": "8c7b153e",
   "metadata": {},
   "outputs": [],
   "source": [
    "num_filters = 64\n",
    "learning_rate = 0.001\n",
    "num_epochs = 50\n",
    "use_cuda = True\n",
    "early_stop = 3\n",
    "batch_size = 32\n",
    "small_kernel = 1\n",
    "medium_kernel = 3\n",
    "large_kernel = 5\n",
    "kernel_set = [[1, 3, 5]]\n",
    "min_delta = -0.025\n",
    "min_epochs = 15\n",
    "num_workers = 8"
   ]
  },
  {
   "cell_type": "code",
   "execution_count": 27,
   "id": "7f4a88a3",
   "metadata": {},
   "outputs": [],
   "source": [
    "class MSCB(nn.Module):\n",
    "    def __init__(self, small_kernel, medium_kernel, large_kernel, num_filters):\n",
    "        super(MSCB, self).__init__()\n",
    "        self.name = \"MSCB\"\n",
    "\n",
    "        # Define Small Path\n",
    "        self.convS = nn.Conv1d(in_channels = 56, out_channels = num_filters, kernel_size = small_kernel, padding = 'same')\n",
    "        self.MPoolS = nn.MaxPool1d(kernel_size = small_kernel, stride = 5, padding = int(small_kernel/2 - 1))\n",
    "        \n",
    "        # Define Medium Path\n",
    "        self.convM = nn.Conv1d(in_channels = 56, out_channels = num_filters, kernel_size = medium_kernel, padding = 'same')\n",
    "        self.MPoolM = nn.MaxPool1d(kernel_size = medium_kernel, stride = 5, padding = int(medium_kernel/2 - 1))\n",
    "        \n",
    "        # Define Large Path\n",
    "        self.convL = nn.Conv1d(in_channels = 56, out_channels = num_filters, kernel_size = large_kernel, padding = 'same')\n",
    "        self.MPoolL = nn.MaxPool1d(kernel_size = large_kernel, stride = 5, padding = int(large_kernel/2 - 1))\n",
    "        \n",
    "        # MPool first\n",
    "        self.MPool = nn.MaxPool1d(kernel_size = 3, stride = 5)\n",
    "        self.conv = nn.Conv1d(in_channels = 56, out_channels = 128, kernel_size = 24, padding = 'same')\n",
    "        \n",
    "        # Post Concatenation\n",
    "        self.conv2 = nn.Conv1d(in_channels = 3*num_filters + 128, out_channels = 64, kernel_size = 112, padding = 'same')\n",
    "        self.MPool2 = nn.MaxPool1d(kernel_size = 3, stride = 5)\n",
    "        self.fc1 = nn.Linear(in_features = 3840, out_features = 400)\n",
    "        self.Dropout = nn.Dropout(0.5)\n",
    "        self.fc2 = nn.Linear(in_features = 400, out_features = 1024)\n",
    "        self.fc3 = nn.Linear(in_features = 1024, out_features = 3)\n",
    "\n",
    "    def forward(self, x):\n",
    "        ### Feature Learning Head\n",
    "        \n",
    "        # Reshape Tensor\n",
    "        x = torch.moveaxis(x,2,1)\n",
    "        x = torch.tensor(x, dtype=torch.float32)\n",
    "\n",
    "        # Parrallel Convolution Pathways\n",
    "        x_S = self.MPoolS(F.relu(self.convS(x)))\n",
    "        x_M = self.MPoolM(F.relu(self.convM(x)))\n",
    "        x_L = self.MPoolL(F.relu(self.convL(x)))\n",
    "        x_O = F.relu(self.conv(self.MPool(x)))\n",
    "        \n",
    "        # Post Concatenation\n",
    "        x = torch.cat((x_S,x_M,x_L,x_O),1)\n",
    "        x = self.MPool2(F.relu(self.conv2(x)))\n",
    "        \n",
    "        print(x.shape())\n",
    "\n",
    "        # Flattening\n",
    "        x = x.view(-1,3840)\n",
    "\n",
    "        #Classification Head\n",
    "        x = F.relu(self.fc1((x)))\n",
    "        x = self.Dropout(x)\n",
    "        x = F.relu(self.fc2(x))\n",
    "        x = self.fc3(x)\n",
    "        return x"
   ]
  },
  {
   "cell_type": "code",
   "execution_count": 28,
   "id": "4639375d",
   "metadata": {},
   "outputs": [
    {
     "name": "stdout",
     "output_type": "stream",
     "text": [
      "4448531\n"
     ]
    }
   ],
   "source": [
    "n_filters = 64\n",
    "small_kernel = 1\n",
    "medium_kernel = 3\n",
    "large_kernel = 5\n",
    "one_CNN = MSCB(small_kernel, medium_kernel, large_kernel, n_filters)\n",
    "pytorch_total_params = sum(p.numel() for p in one_CNN.parameters())\n",
    "print(pytorch_total_params)"
   ]
  },
  {
   "cell_type": "code",
   "execution_count": null,
   "id": "54c837f1",
   "metadata": {},
   "outputs": [],
   "source": []
  },
  {
   "cell_type": "code",
   "execution_count": 17,
   "id": "858d095c",
   "metadata": {},
   "outputs": [],
   "source": [
    "class MSCB(nn.Module):\n",
    "    def __init__(self, small_kernel, medium_kernel, large_kernel, num_filters):\n",
    "        super(MSCB, self).__init__()\n",
    "        self.name = \"MSCB\"\n",
    "\n",
    "        # Define Small Path\n",
    "        self.convS = nn.Conv1d(in_channels = 56, out_channels = num_filters, kernel_size = small_kernel, padding = 'same')\n",
    "        self.MPoolS = nn.MaxPool1d(kernel_size = small_kernel, stride = 5, padding = int(small_kernel/2 - 1))\n",
    "        \n",
    "        # Define Medium Path\n",
    "        self.convM = nn.Conv1d(in_channels = 56, out_channels = num_filters, kernel_size = medium_kernel, padding = 'same')\n",
    "        self.MPoolM = nn.MaxPool1d(kernel_size = medium_kernel, stride = 5, padding = int(medium_kernel/2 - 1))\n",
    "        \n",
    "        # Define Large Path\n",
    "        self.convL = nn.Conv1d(in_channels = 56, out_channels = num_filters, kernel_size = large_kernel, padding = 'same')\n",
    "        self.MPoolL = nn.MaxPool1d(kernel_size = large_kernel, stride = 5, padding = int(large_kernel/2 - 1))\n",
    "        \n",
    "        # MPool first\n",
    "        self.MPool = nn.MaxPool1d(kernel_size = 3, stride = 5)\n",
    "        self.conv = nn.Conv1d(in_channels = 56, out_channels = 128, kernel_size = 24, padding = 'same')\n",
    "        \n",
    "        # Post Concatenation\n",
    "        self.conv2 = nn.Conv1d(in_channels = 3*num_filters + 128, out_channels = 64, kernel_size = 112, padding = 'same')\n",
    "        self.MPool2 = nn.MaxPool1d(kernel_size = 3, stride = 5)\n",
    "        self.fc1 = nn.Linear(in_features = 256, out_features = 400)\n",
    "        self.Dropout = nn.Dropout(0.5)\n",
    "        self.fc2 = nn.Linear(in_features = 400, out_features = 1024)\n",
    "        self.fc3 = nn.Linear(in_features = 1024, out_features = 3)\n",
    "\n",
    "    def forward(self, x):\n",
    "        ### Feature Learning Head\n",
    "        \n",
    "        # Reshape Tensor\n",
    "        x = torch.moveaxis(x,2,1)\n",
    "        x = torch.tensor(x, dtype=torch.float32)\n",
    "\n",
    "        # Parrallel Convolution Pathways\n",
    "        x_S = self.MPoolS(F.relu(self.convS(x)))\n",
    "        x_M = self.MPoolM(F.relu(self.convM(x)))\n",
    "        x_L = self.MPoolL(F.relu(self.convL(x)))\n",
    "        x_O = F.relu(self.conv(self.MPool(x)))\n",
    "        \n",
    "        # Post Concatenation\n",
    "        x = torch.cat((x_S,x_M,x_L,x_O),1)\n",
    "        x = self.MPool2(F.relu(self.conv2(x)))\n",
    "        \n",
    "        print(x.shape)\n",
    "\n",
    "        # Flattening\n",
    "        x = x.view(-1,256)\n",
    "\n",
    "        #Classification Head\n",
    "        x = F.relu(self.fc1((x)))\n",
    "        x = self.Dropout(x)\n",
    "        x = F.relu(self.fc2(x))\n",
    "        x = self.fc3(x)\n",
    "        return x"
   ]
  },
  {
   "cell_type": "code",
   "execution_count": 18,
   "id": "863be963",
   "metadata": {},
   "outputs": [],
   "source": [
    "n_filters = 64\n",
    "small_kernel = 1\n",
    "medium_kernel = 3\n",
    "large_kernel = 5\n",
    "\n",
    "one_CNN = MSCB(small_kernel, medium_kernel, large_kernel, n_filters)\n",
    "# state = torch.load(\"M:\\Peripheral Nerve Studies\\MCC Projects\\Aseem G\\Models\\Pytorch\\model_checkpoints\\Rat 2\\September 17 Kernels 1_3_5\\Rat 2kernels_1_3_5_Fold_2_final\", map_location=torch.device('cpu'))\n",
    "# one_CNN.load_state_dict(state)"
   ]
  },
  {
   "cell_type": "code",
   "execution_count": 19,
   "id": "c7a883b1",
   "metadata": {},
   "outputs": [],
   "source": [
    "x = torch.randn(1,100,56)"
   ]
  },
  {
   "cell_type": "code",
   "execution_count": 20,
   "id": "07a725d3",
   "metadata": {},
   "outputs": [
    {
     "name": "stdout",
     "output_type": "stream",
     "text": [
      "torch.Size([1, 64, 4])\n"
     ]
    },
    {
     "name": "stderr",
     "output_type": "stream",
     "text": [
      "C:\\Users\\GillA\\AppData\\Local\\Temp\\ipykernel_12484\\610203947.py:35: UserWarning: To copy construct from a tensor, it is recommended to use sourceTensor.clone().detach() or sourceTensor.clone().detach().requires_grad_(True), rather than torch.tensor(sourceTensor).\n",
      "  x = torch.tensor(x, dtype=torch.float32)\n"
     ]
    },
    {
     "data": {
      "text/plain": [
       "tensor([[ 0.0153, -0.0234,  0.0368]], grad_fn=<AddmmBackward0>)"
      ]
     },
     "execution_count": 20,
     "metadata": {},
     "output_type": "execute_result"
    }
   ],
   "source": [
    "one_CNN(x)"
   ]
  },
  {
   "cell_type": "code",
   "execution_count": null,
   "id": "77dc3e66",
   "metadata": {},
   "outputs": [],
   "source": []
  }
 ],
 "metadata": {
  "kernelspec": {
   "display_name": "Python 3 (ipykernel)",
   "language": "python",
   "name": "python3"
  },
  "language_info": {
   "codemirror_mode": {
    "name": "ipython",
    "version": 3
   },
   "file_extension": ".py",
   "mimetype": "text/x-python",
   "name": "python",
   "nbconvert_exporter": "python",
   "pygments_lexer": "ipython3",
   "version": "3.9.12"
  }
 },
 "nbformat": 4,
 "nbformat_minor": 5
}
