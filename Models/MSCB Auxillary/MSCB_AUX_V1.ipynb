{
 "cells": [
  {
   "cell_type": "code",
   "execution_count": 1,
   "id": "59973419",
   "metadata": {},
   "outputs": [
    {
     "name": "stderr",
     "output_type": "stream",
     "text": [
      "C:\\Users\\GillA\\Anaconda3\\envs\\Aseem\\lib\\site-packages\\scipy\\__init__.py:146: UserWarning: A NumPy version >=1.16.5 and <1.23.0 is required for this version of SciPy (detected version 1.23.1\n",
      "  warnings.warn(f\"A NumPy version >={np_minversion} and <{np_maxversion}\"\n"
     ]
    }
   ],
   "source": [
    "import os\n",
    "import torch\n",
    "import random\n",
    "import math\n",
    "from torch import nn\n",
    "from torch.nn.modules import activation\n",
    "import torch.nn.functional as F\n",
    "import torchvision\n",
    "import shutil\n",
    "import numpy as np\n",
    "from PIL import Image\n",
    "import time\n",
    "from tqdm.notebook import tqdm\n",
    "from sklearn.metrics import confusion_matrix"
   ]
  },
  {
   "cell_type": "code",
   "execution_count": 2,
   "id": "7d43f88b",
   "metadata": {},
   "outputs": [],
   "source": [
    "class MSCB(nn.Module):\n",
    "    def __init__(self, small_kernel, medium_kernel, large_kernel, num_filters):\n",
    "        super(MSCB, self).__init__()\n",
    "        self.name = \"MSCB\"\n",
    "\n",
    "        # Define Small Path\n",
    "        self.convS = nn.Conv1d(in_channels = 56, out_channels = num_filters, kernel_size = small_kernel, padding = 'same')\n",
    "        self.MPoolS = nn.MaxPool1d(kernel_size = small_kernel, stride = 5, padding = int(small_kernel/2 - 1))\n",
    "        \n",
    "        # Define Medium Path\n",
    "        self.convM = nn.Conv1d(in_channels = 56, out_channels = num_filters, kernel_size = medium_kernel, padding = 'same')\n",
    "        self.MPoolM = nn.MaxPool1d(kernel_size = medium_kernel, stride = 5, padding = int(medium_kernel/2 - 1))\n",
    "        \n",
    "        # Define Large Path\n",
    "        self.convL = nn.Conv1d(in_channels = 56, out_channels = num_filters, kernel_size = large_kernel, padding = 'same')\n",
    "        self.MPoolL = nn.MaxPool1d(kernel_size = large_kernel, stride = 5, padding = int(large_kernel/2 - 1))\n",
    "        \n",
    "        #\n",
    "        self.MPool = nn.MaxPool1d(kernel_size = 3, stride = 5)\n",
    "        \n",
    "        #\n",
    "        self.auxMPool = nn.MaxPool1d(kernel_size = 10, stride = 10)\n",
    "#         self.avgpool = nn.AdaptiveAvgPool1d(12)\n",
    "        \n",
    "        self.auxFC = nn.Linear(in_features = 9600, out_features = 3840)\n",
    "        \n",
    "        self.conv = nn.Conv1d(in_channels = 56, out_channels = 128, kernel_size = 24, padding = 'same')\n",
    "        \n",
    "        #\n",
    "        self.conv2 = nn.Conv1d(in_channels = 3*num_filters + 128, out_channels = 64, kernel_size = 112, padding = 'same')\n",
    "        self.MPool2 = nn.MaxPool1d(kernel_size = 3, stride = 5)\n",
    "        self.conv3 = nn.Conv1d(in_channels = 64, out_channels = 64, kernel_size = 25, padding = 'same')\n",
    "        self.fc1 = nn.Linear(in_features = 3840, out_features = 400)\n",
    "        self.Dropout = nn.Dropout(0.5)\n",
    "        self.fc2 = nn.Linear(in_features = 400, out_features = 1024)\n",
    "        self.fc3 = nn.Linear(in_features = 1024, out_features = 3)\n",
    "\n",
    "    def forward(self, x):\n",
    "        ### Feature Learning Head\n",
    "        \n",
    "        x = torch.moveaxis(x,2,1)\n",
    "        x = torch.tensor(x, dtype=torch.float32)\n",
    "\n",
    "        # Parrallel Convolutions\n",
    "        x_S = self.MPoolS(F.relu(self.convS(x)))\n",
    "        x_M = self.MPoolM(F.relu(self.convM(x)))\n",
    "        x_L = self.MPoolL(F.relu(self.convL(x)))\n",
    "        x_O = F.relu(self.conv(self.MPool(x)))\n",
    "        \n",
    "        # Concatenate\n",
    "        x = torch.cat((x_S,x_M,x_L,x_O),1)\n",
    "        \n",
    "        ### Auxillary Classification\n",
    "        x_aux = self.auxMPool(x)\n",
    "        x_aux = x_aux.view(-1,9600)\n",
    "        x_aux = self.auxFC(x_aux)\n",
    "        # Classification Head\n",
    "        x_aux = F.relu(self.fc1((x_aux)))\n",
    "        x_aux = self.Dropout(x_aux)\n",
    "        x_aux = F.relu(self.fc2(x_aux))\n",
    "        x_aux = self.fc3(x_aux)\n",
    "        \n",
    "        # Back to Main\n",
    "        x = self.MPool2(F.relu(self.conv2(x)))\n",
    "        x = F.relu(self.conv3(x))\n",
    "        \n",
    "        # Flattening\n",
    "        x = x.view(-1,3840)\n",
    "\n",
    "        #Classification Head\n",
    "        x = F.relu(self.fc1((x)))\n",
    "        x = self.Dropout(x)\n",
    "        x = F.relu(self.fc2(x))\n",
    "        x = self.fc3(x)\n",
    "        \n",
    "        return (x, x_aux)\n",
    "\n"
   ]
  },
  {
   "cell_type": "code",
   "execution_count": 3,
   "id": "1b78a0bc",
   "metadata": {},
   "outputs": [
    {
     "name": "stdout",
     "output_type": "stream",
     "text": [
      "41418835\n"
     ]
    }
   ],
   "source": [
    "n_filters = 64\n",
    "small_kernel = 1\n",
    "medium_kernel = 3\n",
    "large_kernel = 5\n",
    "one_CNN = MSCB(small_kernel, medium_kernel, large_kernel, n_filters)\n",
    "pytorch_total_params = sum(p.numel() for p in one_CNN.parameters())\n",
    "print(pytorch_total_params)"
   ]
  },
  {
   "cell_type": "code",
   "execution_count": null,
   "id": "3ede6deb",
   "metadata": {},
   "outputs": [],
   "source": []
  }
 ],
 "metadata": {
  "kernelspec": {
   "display_name": "Python 3 (ipykernel)",
   "language": "python",
   "name": "python3"
  },
  "language_info": {
   "codemirror_mode": {
    "name": "ipython",
    "version": 3
   },
   "file_extension": ".py",
   "mimetype": "text/x-python",
   "name": "python",
   "nbconvert_exporter": "python",
   "pygments_lexer": "ipython3",
   "version": "3.9.12"
  }
 },
 "nbformat": 4,
 "nbformat_minor": 5
}
